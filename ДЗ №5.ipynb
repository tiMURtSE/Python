{
 "cells": [
  {
   "cell_type": "code",
   "execution_count": null,
   "id": "4dd344d9",
   "metadata": {},
   "outputs": [],
   "source": [
    "# №1 — класс Student\n",
    "class Student:\n",
    "    \"Студент\"\n",
    "    def __init__(self, name = \"Ivan\", groupNumber = \"10A\", age = 18):\n",
    "        self.name = name\n",
    "        self.groupNumber = groupNumber\n",
    "        self.age = age\n",
    "        \n",
    "    def getInfo(self):\n",
    "        print(\"Имя:\", self.name)\n",
    "        print(\"Номер группы:\", self.groupNumber)\n",
    "        print(\"Возраст:\", self.age)\n",
    "        \n",
    "    def setNameAge(self, name, age):\n",
    "        self.name = name\n",
    "        self.age = age\n",
    "    \n",
    "    def setGroupNumber(self, groupNumber):\n",
    "        self.groupNumber = groupNumber\n",
    "        \n",
    "Timur = Student(\"Тимур\", \"21-2-4\", 22)\n",
    "blank = Student()\n",
    "\n",
    "Timur.getInfo()\n",
    "blank.setNameAge(\"Vasya\", 25)\n",
    "blank.setGroupNumber(\"20B\")\n",
    "blank.getInfo()"
   ]
  },
  {
   "cell_type": "code",
   "execution_count": null,
   "id": "3754e6ef",
   "metadata": {},
   "outputs": [],
   "source": [
    "# №2 — класс Car\n",
    "\n",
    "class Car:\n",
    "    \"\"\n",
    "    def __init__(self, color, type, year):\n",
    "        self.color = color\n",
    "        self.type = type\n",
    "        self.year = year\n",
    "        \n",
    "    def startCar(self):\n",
    "        print(\"Автомобиль заведен!\")\n",
    "        \n",
    "    def turnOffCar(self):\n",
    "        print(\"Автомобиль заглушен!\")\n",
    "        \n",
    "BMW = Car(\"black\", \"sedan\", 2011)\n",
    "BMW.startCar()"
   ]
  },
  {
   "cell_type": "code",
   "execution_count": null,
   "id": "d81ea2e5",
   "metadata": {},
   "outputs": [],
   "source": [
    "# 3 — Nutrition\n",
    "\n",
    "class NutritionInfo:\n",
    "    def __init__(self, proteins, carbs, fats):\n",
    "        self.proteins = proteins\n",
    "        self.carbs = carbs\n",
    "        self.fats = fats\n",
    "    \n",
    "    def __add__(self, other):\n",
    "        return NutritionInfo(self.proteins + other.proteins, self.carbs + other.carbs, self.fats + other.fats)\n",
    "    \n",
    "    def __str__(self):\n",
    "        return f\"Nutrition p {self.proteins}, c {self.carbs}, f {self.fats}\"\n",
    "    \n",
    "    def __mul__(self, other):\n",
    "        return NutritionInfo(self.proteins * other, self.carbs * other, self.fats * other)\n",
    "        \n",
    "    def energy(self):\n",
    "        return int(self.fats * 9 + (self.carbs + self.proteins) * 4.2)\n",
    "    \n",
    "egg = NutritionInfo(1, 2, 3)\n",
    "pastila = NutritionInfo(1, 2, 3)\n",
    "tvorog_9 = NutritionInfo(18, 3, 9)\n",
    "apple = NutritionInfo(0, 25, 0)\n",
    "\n",
    "print(egg + tvorog_9)\n",
    "print(egg * 3)\n"
   ]
  }
 ],
 "metadata": {
  "kernelspec": {
   "display_name": "Python 3 (ipykernel)",
   "language": "python",
   "name": "python3"
  },
  "language_info": {
   "codemirror_mode": {
    "name": "ipython",
    "version": 3
   },
   "file_extension": ".py",
   "mimetype": "text/x-python",
   "name": "python",
   "nbconvert_exporter": "python",
   "pygments_lexer": "ipython3",
   "version": "3.9.7"
  }
 },
 "nbformat": 4,
 "nbformat_minor": 5
}
