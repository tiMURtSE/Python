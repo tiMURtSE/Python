{
 "cells": [
  {
   "cell_type": "code",
   "execution_count": 66,
   "id": "9226f66b",
   "metadata": {
    "scrolled": true
   },
   "outputs": [
    {
     "name": "stdout",
     "output_type": "stream",
     "text": [
      "13\n",
      "Не верно введен номер месяца!!!\n"
     ]
    }
   ],
   "source": [
    "# ДЗ — Какой месяц?\n",
    "\n",
    "months = [\"Январь\", \"Февраль\", \"Март\", \"Апрель\", \"Май\", \"Июнь\", \"Июль\", \"Август\", \"Сентябрь\", \"Октябрь\", \"Ноябрь\", \"Декабрь\"]\n",
    "\n",
    "num_month = int(input())\n",
    "if (num_month >= 1) and (num_month <= 12):\n",
    "    print(months[num_month - 1])\n",
    "else:\n",
    "    print(\"Не верно введен номер месяца!!!\")"
   ]
  },
  {
   "cell_type": "code",
   "execution_count": 32,
   "id": "72647b3e",
   "metadata": {
    "scrolled": false
   },
   "outputs": [
    {
     "name": "stdout",
     "output_type": "stream",
     "text": [
      "12394\n",
      "44\n",
      "НОД = 2\n"
     ]
    }
   ],
   "source": [
    "# ДЗ — НОД\n",
    "\n",
    "a, b = int(input()), int(input()) # a = 600, b = 1012\n",
    "remainder = 1\n",
    "\n",
    "if a > b:\n",
    "    while remainder != 0:\n",
    "        remainder = a % b\n",
    "        a = b\n",
    "        b = remainder\n",
    "    else:\n",
    "        print(f\"НОД = {a}\")\n",
    "elif b > a:\n",
    "    while remainder != 0:\n",
    "        remainder = b % a\n",
    "        b = a\n",
    "        a = remainder\n",
    "    else:\n",
    "        print(f\"НОД = {b}\")\n",
    "else:\n",
    "    print(a)"
   ]
  },
  {
   "cell_type": "code",
   "execution_count": 42,
   "id": "6f1fdfcb",
   "metadata": {},
   "outputs": [
    {
     "name": "stdout",
     "output_type": "stream",
     "text": [
      "Файл имеет правильное расширение\n"
     ]
    }
   ],
   "source": [
    "# ДЗ — Проверка расширения файла\n",
    "\n",
    "file = 'Моя диссертация.gif'\n",
    "extensions = ['png', 'jpg', 'jpeg', 'gif', 'svg']\n",
    "\n",
    "if file[-3:] in extensions:\n",
    "    print(\"Файл имеет правильное расширение\")\n",
    "else:\n",
    "    print(\"У файла неверное расширение\")"
   ]
  },
  {
   "cell_type": "code",
   "execution_count": 48,
   "id": "4d6a47bc",
   "metadata": {},
   "outputs": [
    {
     "name": "stdout",
     "output_type": "stream",
     "text": [
      "2022\n",
      "2022 год — невисокосный!\n"
     ]
    }
   ],
   "source": [
    "# ДЗ — Високосный год\n",
    "\n",
    "year = int(input())\n",
    "\n",
    "if year % 400 == 0:\n",
    "    print(f\"{year} год — високосный!\")\n",
    "elif year % 4 == 0:\n",
    "    print(f\"{year} год — високосный!\")\n",
    "else:\n",
    "    print(f\"{year} год — невисокосный!\")"
   ]
  }
 ],
 "metadata": {
  "kernelspec": {
   "display_name": "Python 3 (ipykernel)",
   "language": "python",
   "name": "python3"
  },
  "language_info": {
   "codemirror_mode": {
    "name": "ipython",
    "version": 3
   },
   "file_extension": ".py",
   "mimetype": "text/x-python",
   "name": "python",
   "nbconvert_exporter": "python",
   "pygments_lexer": "ipython3",
   "version": "3.9.7"
  }
 },
 "nbformat": 4,
 "nbformat_minor": 5
}
