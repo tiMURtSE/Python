{
 "cells": [
  {
   "cell_type": "code",
   "execution_count": 89,
   "id": "3153f426",
   "metadata": {},
   "outputs": [
    {
     "name": "stdout",
     "output_type": "stream",
     "text": [
      "Средний балл учеников: 3.18\n",
      "Список отстающих:\n",
      "Петров И. 3\n",
      "Дмитриев Н. 2\n",
      "Котов Д. 2\n",
      "Бирюкова Н. 1\n",
      "Данилов П. 3\n",
      "Лемонов Ю. 2\n"
     ]
    }
   ],
   "source": [
    "# №1 — средний балл и список отстающих\n",
    "\n",
    "with open(r\"C:\\Users\\multi\\OneDrive\\Рабочий стол\\Милти.txt\", \"r\", encoding = \"utf-8\") as file:\n",
    "    text = file.read().split(\"\\n\")\n",
    "    counter = 0\n",
    "    lg_list = list()\n",
    "    \n",
    "    for line in text:\n",
    "        counter += int(line[-1:])\n",
    "        if int(line[-1:]) < 4:\n",
    "            lg_list.append(line)\n",
    "    counter /= len(text)\n",
    "    \n",
    "    print(f\"Средний балл учеников: {round(counter, 2)}\")\n",
    "    print(\"Список отстающих:\", *lg_list, sep = '\\n')"
   ]
  },
  {
   "cell_type": "code",
   "execution_count": 117,
   "id": "00abdbd0",
   "metadata": {},
   "outputs": [
    {
     "name": "stdout",
     "output_type": "stream",
     "text": [
      "Лекций: 6\n",
      "Практических: 11\n",
      "Лабораторных: 2\n",
      "\n",
      "Понедельник\n",
      "\tФизика (лекция.)\n",
      "\tФизика (лаб.)\n",
      "\tАлгебра (практ.)\n",
      " \n",
      "Вторник\n",
      "\tГеометрия (лекц.)\n",
      "\tФизика (практ.)\n",
      "\tФизика (лаб.)\n",
      "\tФизкультура (практика.)\n",
      "Среда\n",
      "\tГеометрия (лекц.)\n",
      "\tФизика (практ.)\n",
      "\tАлгебра (практ.)\n",
      "\tФизкультура (практ.)\n",
      "Четверг\n",
      "\tГеометрия (лекц.)\n",
      "\tФизика (практ.)\n",
      "\tАлгебра (практ.)\n",
      "\tФизкультура (практ.)\n",
      "Пятница\n",
      "\tГеометрия (лекц.)\n",
      "\tФизика (прак.)\n",
      "\tАлгебра (практ.)\n",
      "\tХимия (лек.)\n",
      "\n"
     ]
    }
   ],
   "source": [
    "# №2 — количество определенных слов в файле\n",
    "\n",
    "with open(r\"C:\\Users\\multi\\OneDrive\\Рабочий стол\\расписание.txt\", \"r\", encoding = \"utf-8\") as file:\n",
    "    text = file.readlines()\n",
    "    lec, pract, lab = 0, 0, 0\n",
    "    \n",
    "    for line in text:\n",
    "        if line.find(\"(лек\") != -1:\n",
    "            lec += 1\n",
    "        if line.find(\"(прак\") != -1:\n",
    "            pract += 1\n",
    "        if line.find(\"(лаб\") != -1:\n",
    "            lab += 1\n",
    "            \n",
    "print('Лекций:', lec)\n",
    "print('Практических:', pract)\n",
    "print('Лабораторных:', lab)\n",
    "print(\"\\n\" + \"\".join(text))"
   ]
  },
  {
   "cell_type": "code",
   "execution_count": 150,
   "id": "b1caab99",
   "metadata": {},
   "outputs": [
    {
     "name": "stdout",
     "output_type": "stream",
     "text": [
      ".anaconda\n",
      ".astropy\n",
      ".gitconfig\n",
      ".ipynb_checkpoints\n",
      ".ipython\n",
      ".jupyter\n",
      ".matplotlib\n",
      ".spyder-py3\n",
      ".VirtualBox\n",
      "3D Objects\n",
      "AppData\n",
      "Application Data\n",
      "Contacts\n",
      "Cookies\n",
      "Documents\n",
      "Downloads\n",
      "Favorites\n",
      "Links\n",
      "Local Settings\n",
      "MicrosoftEdgeBackups\n",
      "Music\n",
      "NetHood\n",
      "NTUSER.DAT\n",
      "ntuser.dat.LOG1\n",
      "ntuser.dat.LOG2\n",
      "NTUSER.DAT{1c2b59c6-c5f5-11eb-bacb-000d3a96488e}.TM.blf\n",
      "NTUSER.DAT{1c2b59c6-c5f5-11eb-bacb-000d3a96488e}.TMContainer00000000000000000001.regtrans-ms\n",
      "NTUSER.DAT{1c2b59c6-c5f5-11eb-bacb-000d3a96488e}.TMContainer00000000000000000002.regtrans-ms\n",
      "ntuser.ini\n",
      "OneDrive\n",
      "PrintHood\n",
      "PycharmProjects\n",
      "Recent\n",
      "Saved Games\n",
      "Searches\n",
      "SendTo\n",
      "source\n",
      "Videos\n",
      "VirtualBox VMs\n",
      "главное меню\n",
      "ДЗ №2.ipynb\n",
      "Мои документы\n",
      "Шаблоны\n"
     ]
    }
   ],
   "source": [
    "# №4 — список файлов в указанной директории\n",
    "\n",
    "import os\n",
    "print(\"\\n\".join(os.listdir(path=r\"C:\\Users\\multi\")))"
   ]
  },
  {
   "cell_type": "code",
   "execution_count": 213,
   "id": "c38c4b92",
   "metadata": {},
   "outputs": [
    {
     "name": "stdout",
     "output_type": "stream",
     "text": [
      "Варкалось. Хливкие шорьки Пырялись по наве, И хрюкотали зелюки, Как мюмзики в мове.  О, бойся Бармаглота, сын! Он так свирлеп и дик! А в глу́ше ры́мит исполин — Злопастный Брандашмыг!  Но взял он меч, и взял он щит, Высоких полон дум. В глущобу путь его лежит Под дерево Тумтум.  Он стал под дерево и ждёт. И вдруг граахнул гром — Летит ужасный Бармаглот И пылкает огнём!  Раз-два, раз-два! Горит трава, Взы-взы — стрижает меч, Ува! Ува! И голова Барабардает с плеч!  О светозарный мальчик мой! Ты победил в бою! О храброславленный герой, Хвалу тебе пою!  Варкалось. Хливкие шорьки Пырялись по наве. И хрюкотали зелюки, Как мюмзики в мове.\n",
      "Самое длинное слово — \"храброславленный\" — 16 символов\n",
      "Самое часто встречаемое — \"и\" — 8 раз(а)\n"
     ]
    }
   ],
   "source": [
    "# №5 — два слова: наиболее часто встречающееся и самое длинное\n",
    "\n",
    "string = input()\n",
    "\n",
    "symbols = [\".\", \",\", \"!\", \"?\", \":\", \";\", \"...\", \"%\"]\n",
    "max_len = 0\n",
    "max_amount = 0\n",
    "\n",
    "string = string.split(\" \")\n",
    "for i in range(len(string)): # удаляет небуквенные символы в словах\n",
    "    if string[i][-1:] in symbols:\n",
    "        string[i] = string[i][:-1]\n",
    "    \n",
    "for c in string:\n",
    "    if len(c) > max_len:\n",
    "        max_len = len(c)\n",
    "        word_len = c\n",
    "        \n",
    "for i in range(len(string)):\n",
    "    string[i] = string[i].lower()\n",
    "    counter = string.count(string[i])\n",
    "    if (counter > max_amount) and (string[i] != \"\"):\n",
    "        max_amount = counter\n",
    "        word_amount = string[i]\n",
    "        \n",
    "print(f\"Самое длинное слово — \\\"{word_len}\\\" — {max_len} символов\")\n",
    "print(f\"Самое часто встречаемое — \\\"{word_amount}\\\" — {max_amount} раз(а)\")"
   ]
  }
 ],
 "metadata": {
  "kernelspec": {
   "display_name": "Python 3 (ipykernel)",
   "language": "python",
   "name": "python3"
  },
  "language_info": {
   "codemirror_mode": {
    "name": "ipython",
    "version": 3
   },
   "file_extension": ".py",
   "mimetype": "text/x-python",
   "name": "python",
   "nbconvert_exporter": "python",
   "pygments_lexer": "ipython3",
   "version": "3.9.7"
  }
 },
 "nbformat": 4,
 "nbformat_minor": 5
}
